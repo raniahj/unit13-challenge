{
 "cells": [
  {
   "cell_type": "markdown",
   "metadata": {},
   "source": [
    "# Clustering Crypto"
   ]
  },
  {
   "cell_type": "code",
   "execution_count": 20,
   "metadata": {},
   "outputs": [],
   "source": [
    "# Initial imports\n",
    "import requests\n",
    "import pandas as pd\n",
    "import matplotlib.pyplot as plt\n",
    "import hvplot.pandas\n",
    "import plotly.express as px\n",
    "from sklearn.preprocessing import StandardScaler, MinMaxScaler\n",
    "from sklearn.decomposition import PCA\n",
    "from sklearn.cluster import KMeans"
   ]
  },
  {
   "cell_type": "markdown",
   "metadata": {},
   "source": [
    "### Fetching Cryptocurrency Data"
   ]
  },
  {
   "cell_type": "code",
   "execution_count": 21,
   "metadata": {},
   "outputs": [],
   "source": [
    "# Use the following endpoint to fetch json data\n",
    "import json\n",
    "import pprint\n",
    "url = \"https://min-api.cryptocompare.com/data/all/coinlist\"\n",
    "r = requests.get(url)\n",
    "content = r.content\n",
    "content_d = content.decode('utf-8')\n",
    "data = json.loads(content_d)"
   ]
  },
  {
   "cell_type": "code",
   "execution_count": 23,
   "metadata": {},
   "outputs": [],
   "source": [
    "# Create a DataFrame \n",
    "# HINT: You will need to use the 'Data' key from the json response, then transpose the DataFrame.\n"
   ]
  },
  {
   "cell_type": "code",
   "execution_count": null,
   "metadata": {},
   "outputs": [],
   "source": [
    "# Alternatively, use the provided csv file:\n",
    "# file_path = Path(\"Resources/crypto_data.csv\")\n",
    "file_path = Path(\"Resources/crypto_data.csv\")\n",
    "crypto_df = pd.read_csv(file_path)\n",
    "print(crypto_df.shape)\n",
    "crypto_df.describe()\n",
    "# Create a DataFrame"
   ]
  },
  {
   "cell_type": "markdown",
   "metadata": {},
   "source": [
    "### Data Preprocessing"
   ]
  },
  {
   "cell_type": "code",
   "execution_count": null,
   "metadata": {},
   "outputs": [],
   "source": [
    "# Keep only necessary columns:\n",
    "# 'CoinName','Algorithm','IsTrading','ProofType','TotalCoinsMined','TotalCoinSupply'\n",
    "\n",
    "for col in crypto_df.columns:\n",
    "    #print(col)\n",
    "    \n",
    "\n",
    "crypto_df.rename(columns = {'Unnamed: 0':'Ticker'}, inplace = True)\n",
    "for col in crypto_df.columns:\n",
    "    #print(col)\n",
    "    \n",
    "crypto_df.set_index(\"Ticker\", inplace=True)\n",
    "crypto_df.head()"
   ]
  },
  {
   "cell_type": "code",
   "execution_count": null,
   "metadata": {},
   "outputs": [],
   "source": [
    "# Keep only cryptocurrencies that are trading\n",
    "non_trading = crypto_df[crypto_df[\"IsTrading\"] == False].index\n",
    "crypto_df.drop(non_trading , inplace=True)\n",
    "\n",
    "crypto_df['IsTrading'].values.sum()\n",
    "# crypto_df.head()\n",
    "crypto_df.shape\n"
   ]
  },
  {
   "cell_type": "code",
   "execution_count": null,
   "metadata": {},
   "outputs": [],
   "source": [
    "# Keep only cryptocurrencies with a working algorithm\n",
    "crypto_df= crypto_df[crypto_df['Algorithm']!= 'N/A']"
   ]
  },
  {
   "cell_type": "code",
   "execution_count": null,
   "metadata": {},
   "outputs": [],
   "source": [
    "# Remove the \"IsTrading\" column\n",
    "crypto_df.drop(columns=['IsTrading'], inplace=True)\n",
    "crypto_df.head()"
   ]
  },
  {
   "cell_type": "code",
   "execution_count": null,
   "metadata": {},
   "outputs": [],
   "source": [
    "# Remove rows with at least 1 null value\n",
    "crypto_df = crypto_df.dropna()"
   ]
  },
  {
   "cell_type": "code",
   "execution_count": null,
   "metadata": {},
   "outputs": [],
   "source": [
    "# Remove rows with cryptocurrencies having no coins mined\n",
    "crypto_df= crypto_df[crypto_df[\"TotalCoinsMined\"]>0]"
   ]
  },
  {
   "cell_type": "code",
   "execution_count": null,
   "metadata": {},
   "outputs": [],
   "source": [
    "# Drop rows where there are 'N/A' text values\n",
    "crypto_df= crypto_df[crypto_df!='N/A']"
   ]
  },
  {
   "cell_type": "code",
   "execution_count": null,
   "metadata": {},
   "outputs": [],
   "source": [
    "# Store the 'CoinName'column in its own DataFrame prior to dropping it from crypto_df\n",
    "crypto_names=crypto_df['CoinName']"
   ]
  },
  {
   "cell_type": "code",
   "execution_count": null,
   "metadata": {},
   "outputs": [],
   "source": [
    "# Drop the 'CoinName' column since it's not going to be used on the clustering algorithm\n",
    "crypto_df.drop(columns='CoinName', inplace=True)"
   ]
  },
  {
   "cell_type": "code",
   "execution_count": null,
   "metadata": {},
   "outputs": [],
   "source": [
    "# Create dummy variables for text features\n",
    "crypto_dummies= pd.get_dummies(crypto_df, columns=['Algorithm', 'ProofType'])\n",
    "crypto_dummies.head()"
   ]
  },
  {
   "cell_type": "code",
   "execution_count": null,
   "metadata": {},
   "outputs": [],
   "source": [
    "# Standardize data\n",
    "crypto_scaled= StandardScaler().fit_transform(crypto_dummies)\n",
    "crypto_scaled"
   ]
  },
  {
   "cell_type": "markdown",
   "metadata": {},
   "source": [
    "### Reducing Dimensions Using PCA"
   ]
  },
  {
   "cell_type": "code",
   "execution_count": null,
   "metadata": {},
   "outputs": [],
   "source": [
    "# Use PCA to reduce dimensions to 3 principal components\n",
    "pca = PCA(n_components=3)\n",
    "crypto_pca = pca.fit_transform(crypto_scaled)"
   ]
  },
  {
   "cell_type": "code",
   "execution_count": null,
   "metadata": {},
   "outputs": [],
   "source": [
    "# Create a DataFrame with the principal components data\n",
    "pca_df = pd.DataFrame(\n",
    "         data=crypto_pca, columns=[\"PC 1\", \"PC 2\", \"PC 3\"]\n",
    ")\n",
    "pca_df.head()"
   ]
  },
  {
   "cell_type": "markdown",
   "metadata": {},
   "source": [
    "### Clustering Crytocurrencies Using K-Means\n",
    "\n",
    "#### Find the Best Value for `k` Using the Elbow Curve"
   ]
  },
  {
   "cell_type": "code",
   "execution_count": null,
   "metadata": {},
   "outputs": [],
   "source": [
    "inertia = []\n",
    "k = list(range(1, 11))\n",
    "\n",
    "# Calculate the inertia for the range of k values\n",
    "for i in k:\n",
    "    km = KMeans(n_clusters=i, random_state=0)\n",
    "    km.fit(pca_df)\n",
    "    inertia.append(km.inertia_)\n",
    "\n",
    "# Create the Elbow Curve using hvPlot\n",
    "elbow_data = {\"k\": k, \"inertia\": inertia}\n",
    "df_elbow = pd.DataFrame(elbow_data)\n",
    "df_elbow.hvplot.line(x=\"k\", y=\"inertia\", xticks=k, title=\"Elbow Curve\")"
   ]
  },
  {
   "cell_type": "markdown",
   "metadata": {},
   "source": [
    "Running K-Means with `k=<your best value for k here>`"
   ]
  },
  {
   "cell_type": "code",
   "execution_count": null,
   "metadata": {},
   "outputs": [],
   "source": [
    "# Initialize the K-Means model\n",
    "km = KMeans(n_clusters=4, random_state=0)\n",
    "# Fit the model\n",
    "km.fit(pca_df)\n",
    "# Predict clusters\n",
    "predictions = km.predict(pca_df)\n",
    "# Create a new DataFrame including predicted clusters and cryptocurrencies features\n",
    "pca_df['class'] = km.labels_\n",
    "pca_df.index = crypto_df.index"
   ]
  },
  {
   "cell_type": "code",
   "execution_count": null,
   "metadata": {},
   "outputs": [],
   "source": [
    "crypto_df.head()\n",
    "clustered_df = pd.concat([crypto_df, pca_df, crypto_names], axis=1, )\n",
    "clustered_df.head()"
   ]
  },
  {
   "cell_type": "markdown",
   "metadata": {},
   "source": [
    "### Visualizing Results\n",
    "\n",
    "#### 3D-Scatter with Clusters"
   ]
  },
  {
   "cell_type": "code",
   "execution_count": null,
   "metadata": {},
   "outputs": [],
   "source": [
    "# Create a 3D-Scatter with the PCA data and the clusters\n",
    "fig = px.scatter_3d(clustered_df, x=\"PC 1\", y=\"PC 2\", z=\"PC 3\", color=\"class\", hover_name=\"CoinName\", hover_data=[\"Algorithm\"])\n",
    "fig.show()"
   ]
  },
  {
   "cell_type": "markdown",
   "metadata": {},
   "source": [
    "#### Table of Tradable Cryptocurrencies"
   ]
  },
  {
   "cell_type": "code",
   "execution_count": null,
   "metadata": {},
   "outputs": [],
   "source": [
    "# Table with tradable cryptos\n",
    "clustered_df.hvplot.table(columns=['CoinName', \"Algorithm\", \"ProofType\", \"TotalCoinSupply\", \"TotalCoinsMined\", \"class\"])"
   ]
  },
  {
   "cell_type": "code",
   "execution_count": null,
   "metadata": {},
   "outputs": [],
   "source": [
    "# Print the total number of tradable cryptocurrencies\n",
    "print(clustered_df.hvplot.table(['CoinName', \"Algorithm\", \"ProofType\", \"TotalCoinSupply\", \"TotalCoinsMined\", \"class\"]))"
   ]
  },
  {
   "cell_type": "markdown",
   "metadata": {},
   "source": [
    "#### Scatter Plot with Tradable Cryptocurrencies"
   ]
  },
  {
   "cell_type": "code",
   "execution_count": null,
   "metadata": {},
   "outputs": [],
   "source": [
    "# Scale data to create the scatter plot\n",
    "clustered_df['TotalCoinSupply'] = clustered_df['TotalCoinSupply'].astype(\"float\")\n",
    "scaled_two = clustered_df[['TotalCoinSupply', 'TotalCoinsMined']]\n",
    "scaled_two = StandardScaler().fit_transform(scaled_two)\n",
    "scaled_two = pd.DataFrame(scaled_two, columns=['TotalCoinSupply', 'TotalCoinsMined'])"
   ]
  },
  {
   "cell_type": "code",
   "execution_count": null,
   "metadata": {},
   "outputs": [],
   "source": [
    "# Plot the scatter with x=\"TotalCoinsMined\" and y=\"TotalCoinSupply\"\n",
    "scaled_two.hvplot.scatter(x=\"TotalCoinsMined\", y=\"TotalCoinSupply\")"
   ]
  }
 ],
 "metadata": {
  "file_extension": ".py",
  "kernelspec": {
   "display_name": "Python 3",
   "language": "python",
   "name": "python3"
  },
  "language_info": {
   "codemirror_mode": {
    "name": "ipython",
    "version": 3
   },
   "file_extension": ".py",
   "mimetype": "text/x-python",
   "name": "python",
   "nbconvert_exporter": "python",
   "pygments_lexer": "ipython3",
   "version": "3.8.3"
  },
  "mimetype": "text/x-python",
  "name": "python",
  "npconvert_exporter": "python",
  "pygments_lexer": "ipython3",
  "version": 3
 },
 "nbformat": 4,
 "nbformat_minor": 4
}
